{
 "cells": [
  {
   "cell_type": "markdown",
   "id": "2efbd147",
   "metadata": {},
   "source": [
    "# `NCTiles.jl` : Create Files, Embed Meta Data\n",
    "\n",
    "[NCTiles.jl](https://gaelforget.github.io/NCTiles.jl/dev/) creates [NetCDF](https://en.wikipedia.org/wiki/NetCDF) files that follow the [CF Metadata Conventions](http://cfconventions.org). It can be used either (1) in stand-alone mode or (2) in combination with [MeshArrays.jl](https://juliaclimate.github.io/MeshArrays.jl/dev/). The examples below include:\n",
    "\n",
    "1. Writing mapped model output, on a regular `lat-lon` grid, to a single `NetCDF` file\n",
    "  - 2D example\n",
    "  - 3D example\n",
    "2. Writing tiled model output, on `C-grid` subdomains, to a collection of `NetCDF` files\n",
    "  - 2D surface example\n",
    "  - 3D temperature example\n",
    "  - 3D staggered vector example"
   ]
  },
  {
   "cell_type": "markdown",
   "id": "c7a6b949",
   "metadata": {},
   "source": [
    "### Packages & Helper Functions"
   ]
  },
  {
   "cell_type": "code",
   "execution_count": 1,
   "id": "6d4002c5",
   "metadata": {},
   "outputs": [],
   "source": [
    "#import Pkg; Pkg.add(\"NCDatasets\"); Pkg.add(\"NCTiles\"); Pkg.test(\"NCTiles\")"
   ]
  },
  {
   "cell_type": "code",
   "execution_count": 2,
   "id": "88254b2f",
   "metadata": {},
   "outputs": [],
   "source": [
    "using NCTiles\n",
    "include(\"helper_functions.jl\");"
   ]
  },
  {
   "cell_type": "markdown",
   "id": "2c461f79",
   "metadata": {},
   "source": [
    "### File Paths & I/O Back-End\n",
    "\n",
    "_These will be used throughout the notebook_"
   ]
  },
  {
   "cell_type": "code",
   "execution_count": 3,
   "id": "6357eeeb",
   "metadata": {},
   "outputs": [
    {
     "data": {
      "text/plain": [
       "NCDatasets"
      ]
     },
     "execution_count": 3,
     "metadata": {},
     "output_type": "execute_result"
    }
   ],
   "source": [
    "# File Paths\n",
    "inputs = \"../inputs/nctiles-testcases/\"\n",
    "get_testcases_if_needed(inputs)\n",
    "\n",
    "outputs = \"../outputs/nctiles-newfiles/\"\n",
    "if ~ispath(outputs); mkpath(outputs); end\n",
    "\n",
    "# I/O Back-End\n",
    "nc=NCTiles.NCDatasets"
   ]
  },
  {
   "cell_type": "markdown",
   "id": "eb3f35a0",
   "metadata": {},
   "source": [
    "## Interpolated Data Examples\n",
    "\n",
    "This example uses 2D and 3D model output that has been interpolated to a rectangular half-degree grid. It reads the data from binary files, adds meta data, and then writes it all to a single `NetCDF` file per model variable."
   ]
  },
  {
   "cell_type": "code",
   "execution_count": 4,
   "id": "8cd9afd3",
   "metadata": {},
   "outputs": [],
   "source": [
    "writedir = joinpath(outputs,\"interp\") #output files path\n",
    "if ~ispath(writedir); mkpath(writedir); end"
   ]
  },
  {
   "cell_type": "markdown",
   "id": "5503ed20",
   "metadata": {},
   "source": [
    "### 2D example"
   ]
  },
  {
   "cell_type": "markdown",
   "id": "7ba1f4c4",
   "metadata": {},
   "source": [
    "Choose variable to process + specify file set name and precision"
   ]
  },
  {
   "cell_type": "code",
   "execution_count": 5,
   "id": "906b53ca",
   "metadata": {},
   "outputs": [
    {
     "data": {
      "text/plain": [
       "Float32"
      ]
     },
     "execution_count": 5,
     "metadata": {},
     "output_type": "execute_result"
    }
   ],
   "source": [
    "nam = \"ETAN\"\n",
    "set = \"state_2d_set1\"\n",
    "prc = Float32"
   ]
  },
  {
   "cell_type": "markdown",
   "id": "ca06d603",
   "metadata": {},
   "source": [
    "Get meta data for the chosen variable. Whithin `field` this defines:\n",
    "\n",
    "- a `NCvar` struct that sets up the subsequent `write` operation & incl. a `BinData` struct.\n",
    "- a `BinData` struct that contains the file names, precision, and array size."
   ]
  },
  {
   "cell_type": "code",
   "execution_count": 6,
   "id": "feb7dfa2",
   "metadata": {
    "lines_to_next_cell": 2
   },
   "outputs": [
    {
     "data": {
      "text/plain": [
       "OrderedCollections.OrderedDict{String, Any} with 7 entries:\n",
       "  \"diagNum\" => 23\n",
       "  \"fldname\" => \"ETAN\"\n",
       "  \"levs\"    => 1\n",
       "  \"mate\"    => \"\"\n",
       "  \"code\"    => \"SM      M1\"\n",
       "  \"units\"   => \"m\"\n",
       "  \"title\"   => \"Surface Height Anomaly\""
      ]
     },
     "execution_count": 6,
     "metadata": {},
     "output_type": "execute_result"
    }
   ],
   "source": [
    "    pth=input_file_paths(inputs)\n",
    "    flddatadir = joinpath(pth[\"interp\"],nam)\n",
    "    fnames = joinpath.(Ref(flddatadir),filter(x -> occursin(\".data\",x), readdir(flddatadir)))\n",
    "    diaginfo = read_available_diagnostics(nam, filename=pth[\"diaglist\"])"
   ]
  },
  {
   "cell_type": "code",
   "execution_count": 7,
   "id": "abc24054",
   "metadata": {},
   "outputs": [],
   "source": [
    "(field,savename,readme)=prep_nctiles_interp(inputs,set,nam,prc);"
   ]
  },
  {
   "cell_type": "markdown",
   "id": "94ca1192",
   "metadata": {},
   "source": [
    "Create the NetCDF file and write data to it."
   ]
  },
  {
   "cell_type": "code",
   "execution_count": 8,
   "id": "9f294a0e",
   "metadata": {},
   "outputs": [],
   "source": [
    "write(field,savename,README=readme);"
   ]
  },
  {
   "cell_type": "markdown",
   "id": "2d8b06db",
   "metadata": {},
   "source": [
    "### 3D example"
   ]
  },
  {
   "cell_type": "code",
   "execution_count": 9,
   "id": "264e7e62",
   "metadata": {},
   "outputs": [],
   "source": [
    "(field,savename,readme)=prep_nctiles_interp(inputs,\"WVELMASS\",\"WVELMASS\",Float32);\n",
    "write(field,savename,README=readme);"
   ]
  },
  {
   "cell_type": "markdown",
   "id": "d1ceb0ec",
   "metadata": {},
   "source": [
    "## Tiled Data Examples\n",
    "\n",
    "This example reads in global variables defined over a collection of subdomain arrays ( _tiles_ ) using `MeshArrays.jl`, and writes them to a collection of `NetCDF` files ( _nctiles_ ) using `NCTiles.jl`.\n",
    "\n",
    "### 2D & 3D examples"
   ]
  },
  {
   "cell_type": "code",
   "execution_count": 10,
   "id": "25862f4c",
   "metadata": {},
   "outputs": [],
   "source": [
    "#output folder name\n",
    "writedir = joinpath(outputs,\"tiled\")\n",
    "~ispath(writedir) ? mkpath(writedir) : nothing\n",
    "\n",
    "#2D example\n",
    "(flds,savename,readme)=prep_nctiles_native(inputs,\"state_2d_set1\",\"ETAN\",Float32)\n",
    "write(flds,savename,README=readme);\n",
    "\n",
    "#3D example\n",
    "(flds,savename,readme)=prep_nctiles_native(inputs,\"state_3d_set1\",\"THETA\",Float32);\n",
    "write(flds,savename,README=readme);"
   ]
  },
  {
   "cell_type": "markdown",
   "id": "84f24c54",
   "metadata": {},
   "source": [
    "### 3D vector example\n",
    "\n",
    "Here we process the three components of a vector field called `UVELMASS`, `VVELMASS` and `WVELMASS`. Note: on a `C-grid` these components are staggered in space."
   ]
  },
  {
   "cell_type": "code",
   "execution_count": 11,
   "id": "813581ec",
   "metadata": {
    "lines_to_next_cell": 0
   },
   "outputs": [],
   "source": [
    "(flds,savename,readme)=prep_nctiles_native(inputs,\"trsp_3d_set1\",\"UVELMASS\",Float32);\n",
    "write(flds,savename,README=readme);\n",
    "\n",
    "(flds,savename,readme)=prep_nctiles_native(inputs,\"trsp_3d_set1\",\"VVELMASS\",Float32);\n",
    "write(flds,savename,README=readme);\n",
    "\n",
    "(flds,savename,readme)=prep_nctiles_native(inputs,\"trsp_3d_set1\",\"WVELMASS\",Float32);\n",
    "write(flds,savename,README=readme);"
   ]
  },
  {
   "cell_type": "code",
   "execution_count": null,
   "id": "ce578a99",
   "metadata": {},
   "outputs": [],
   "source": []
  }
 ],
 "metadata": {
  "jupytext": {
   "encoding": "# -*- coding: utf-8 -*-",
   "formats": "ipynb,jl:light"
  },
  "kernelspec": {
   "display_name": "Julia 1.7.0-beta3",
   "language": "julia",
   "name": "julia-1.7"
  },
  "language_info": {
   "file_extension": ".jl",
   "mimetype": "application/julia",
   "name": "julia",
   "version": "1.7.0"
  }
 },
 "nbformat": 4,
 "nbformat_minor": 5
}
